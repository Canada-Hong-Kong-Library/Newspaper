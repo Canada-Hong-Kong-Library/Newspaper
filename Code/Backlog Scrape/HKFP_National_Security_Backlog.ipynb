{
  "nbformat": 4,
  "nbformat_minor": 0,
  "metadata": {
    "colab": {
      "name": "HKFP National Security Backlog.ipynb",
      "provenance": []
    },
    "kernelspec": {
      "name": "python3",
      "display_name": "Python 3"
    },
    "language_info": {
      "name": "python"
    }
  },
  "cells": [
    {
      "cell_type": "code",
      "metadata": {
        "colab": {
          "base_uri": "https://localhost:8080/"
        },
        "id": "dS-uJL0TEIuu",
        "outputId": "958f0f1f-795b-4a33-e96a-7b2786acc1a0"
      },
      "source": [
        "!pip3 install beautifulsoup4'\n",
        "!pip3 install requests soupsieve lxml"
      ],
      "execution_count": 1,
      "outputs": [
        {
          "output_type": "stream",
          "text": [
            "/bin/bash: -c: line 0: unexpected EOF while looking for matching `''\n",
            "/bin/bash: -c: line 1: syntax error: unexpected end of file\n",
            "Requirement already satisfied: requests in /usr/local/lib/python3.7/dist-packages (2.23.0)\n",
            "Collecting soupsieve\n",
            "  Downloading soupsieve-2.2.1-py3-none-any.whl (33 kB)\n",
            "Requirement already satisfied: lxml in /usr/local/lib/python3.7/dist-packages (4.2.6)\n",
            "Requirement already satisfied: certifi>=2017.4.17 in /usr/local/lib/python3.7/dist-packages (from requests) (2021.5.30)\n",
            "Requirement already satisfied: idna<3,>=2.5 in /usr/local/lib/python3.7/dist-packages (from requests) (2.10)\n",
            "Requirement already satisfied: urllib3!=1.25.0,!=1.25.1,<1.26,>=1.21.1 in /usr/local/lib/python3.7/dist-packages (from requests) (1.24.3)\n",
            "Requirement already satisfied: chardet<4,>=3.0.2 in /usr/local/lib/python3.7/dist-packages (from requests) (3.0.4)\n",
            "Installing collected packages: soupsieve\n",
            "Successfully installed soupsieve-2.2.1\n"
          ],
          "name": "stdout"
        }
      ]
    },
    {
      "cell_type": "code",
      "metadata": {
        "colab": {
          "base_uri": "https://localhost:8080/"
        },
        "id": "nOKkKUSpKgCI",
        "outputId": "3811bdeb-9121-4d01-9119-73ea54668f3a"
      },
      "source": [
        "# -*- coding: utf-8 -*-\n",
        "from bs4 import BeautifulSoup\n",
        "import requests\n",
        "import pandas as pd\n",
        "import numpy as np\n",
        "import os, os.path\n",
        "from google.colab import drive\n",
        "drive.mount('/content/drive', force_remount=True)"
      ],
      "execution_count": 2,
      "outputs": [
        {
          "output_type": "stream",
          "text": [
            "Mounted at /content/drive\n"
          ],
          "name": "stdout"
        }
      ]
    },
    {
      "cell_type": "code",
      "metadata": {
        "id": "AZdEjewiKiGH"
      },
      "source": [
        "master_hkfp_ns = pd.read_csv(\"drive/MyDrive/HKFP/National Security/00_scrapped_hkfp_nationalsecurity_master.csv\")"
      ],
      "execution_count": 8,
      "outputs": []
    },
    {
      "cell_type": "code",
      "metadata": {
        "id": "rykn_mjEKmOJ"
      },
      "source": [
        "for i in range(1,110):\n",
        "  URL_ns = 'https://hongkongfp.com/tag/national-security/page/{}/'.format(i+1)\n",
        "  page_ns = requests.get(URL_ns)\n",
        "  soup_ns = BeautifulSoup(page_ns.content, 'html.parser')\n",
        "  results_ns = soup_ns.find_all(\"h2\", {\"class\": \"entry-title\"})\n",
        "  listns_url = []\n",
        "  listns_title = []\n",
        "  listns_date = []\n",
        "  date_ns = soup_ns.find_all(\"span\", {\"class\": \"posted-on\"})\n",
        "  for r in results_ns:\n",
        "    listns_url.append(r.find(\"a\")['href'])\n",
        "  for t in results_ns:\n",
        "    listns_title.append(t.get_text().strip())\n",
        "  for d in date_ns:\n",
        "    listns_date.append(d.find(\"time\", {\"class\":\"entry-date published\"}).get_text())\n",
        "\n",
        "  ns_backlog = pd.DataFrame(\n",
        "    {\"Title\" : listns_title,\n",
        "     \"URL\" : listns_url,\n",
        "     \"Date\" : listns_date,\n",
        "     \"Scrapped Date\" : pd.to_datetime('now')\n",
        "     })\n",
        "  master_hkfp_ns = pd.concat([master_hkfp_ns, ns_backlog])\n"
      ],
      "execution_count": 9,
      "outputs": []
    },
    {
      "cell_type": "code",
      "metadata": {
        "id": "aLXzRPExNkLc"
      },
      "source": [
        "master_hkfp_ns.to_csv(\"drive/MyDrive/HKFP/National Security/00_scrapped_hkfp_ns_master.csv\", index=False)"
      ],
      "execution_count": 11,
      "outputs": []
    }
  ]
}