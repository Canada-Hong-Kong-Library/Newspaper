{
  "nbformat": 4,
  "nbformat_minor": 0,
  "metadata": {
    "colab": {
      "name": "HKFP China Extradition Backlog.ipynb",
      "provenance": []
    },
    "kernelspec": {
      "name": "python3",
      "display_name": "Python 3"
    },
    "language_info": {
      "name": "python"
    }
  },
  "cells": [
    {
      "cell_type": "code",
      "metadata": {
        "colab": {
          "base_uri": "https://localhost:8080/"
        },
        "id": "Jpq4h_QwNymG",
        "outputId": "6cb87caf-4b1e-43be-a618-52c53ab271dc"
      },
      "source": [
        "!pip3 install beautifulsoup4'\n",
        "!pip3 install requests soupsieve lxml"
      ],
      "execution_count": 1,
      "outputs": [
        {
          "output_type": "stream",
          "text": [
            "/bin/bash: -c: line 0: unexpected EOF while looking for matching `''\n",
            "/bin/bash: -c: line 1: syntax error: unexpected end of file\n",
            "Requirement already satisfied: requests in /usr/local/lib/python3.7/dist-packages (2.23.0)\n",
            "Collecting soupsieve\n",
            "  Downloading soupsieve-2.2.1-py3-none-any.whl (33 kB)\n",
            "Requirement already satisfied: lxml in /usr/local/lib/python3.7/dist-packages (4.2.6)\n",
            "Requirement already satisfied: chardet<4,>=3.0.2 in /usr/local/lib/python3.7/dist-packages (from requests) (3.0.4)\n",
            "Requirement already satisfied: urllib3!=1.25.0,!=1.25.1,<1.26,>=1.21.1 in /usr/local/lib/python3.7/dist-packages (from requests) (1.24.3)\n",
            "Requirement already satisfied: idna<3,>=2.5 in /usr/local/lib/python3.7/dist-packages (from requests) (2.10)\n",
            "Requirement already satisfied: certifi>=2017.4.17 in /usr/local/lib/python3.7/dist-packages (from requests) (2021.5.30)\n",
            "Installing collected packages: soupsieve\n",
            "Successfully installed soupsieve-2.2.1\n"
          ],
          "name": "stdout"
        }
      ]
    },
    {
      "cell_type": "code",
      "metadata": {
        "colab": {
          "base_uri": "https://localhost:8080/"
        },
        "id": "Bca-VE6UNzoG",
        "outputId": "1932ec96-f591-4ef6-d450-07b6e0835000"
      },
      "source": [
        "# -*- coding: utf-8 -*-\n",
        "from bs4 import BeautifulSoup\n",
        "import requests\n",
        "import pandas as pd\n",
        "import numpy as np\n",
        "import os, os.path\n",
        "from google.colab import drive\n",
        "drive.mount('/content/drive', force_remount=True)"
      ],
      "execution_count": 2,
      "outputs": [
        {
          "output_type": "stream",
          "text": [
            "Mounted at /content/drive\n"
          ],
          "name": "stdout"
        }
      ]
    },
    {
      "cell_type": "code",
      "metadata": {
        "id": "47_rDBSFN017"
      },
      "source": [
        "master_hkfp_chinaextradition = pd.read_csv(\"drive/MyDrive/HKFP/China Extradition/00_scrapped_hkfp_chinaextradition_master.csv\")"
      ],
      "execution_count": 5,
      "outputs": []
    },
    {
      "cell_type": "code",
      "metadata": {
        "id": "ns-ficSzN62p"
      },
      "source": [
        "for i in range(1,206):\n",
        "  URL_ns = 'https://hongkongfp.com/tag/national-security/page/{}/'.format(i+1)\n",
        "  page_ns = requests.get(URL_ns)\n",
        "  soup_ns = BeautifulSoup(page_ns.content, 'html.parser')\n",
        "  results_ns = soup_ns.find_all(\"h2\", {\"class\": \"entry-title\"})\n",
        "  listns_url = []\n",
        "  listns_title = []\n",
        "  listns_date = []\n",
        "  date_ns = soup_ns.find_all(\"span\", {\"class\": \"posted-on\"})\n",
        "  for r in results_ns:\n",
        "    listns_url.append(r.find(\"a\")['href'])\n",
        "  for t in results_ns:\n",
        "    listns_title.append(t.get_text().strip())\n",
        "  for d in date_ns:\n",
        "    listns_date.append(d.find(\"time\", {\"class\":\"entry-date published\"}).get_text())\n",
        "\n",
        "  ce_backlog = pd.DataFrame(\n",
        "    {\"Title\" : listns_title,\n",
        "     \"URL\" : listns_url,\n",
        "     \"Date\" : listns_date,\n",
        "     \"Scrapped Date\" : pd.to_datetime('now')\n",
        "     })\n",
        "  master_hkfp_chinaextradition = pd.concat([master_hkfp_chinaextradition, ce_backlog])\n"
      ],
      "execution_count": 21,
      "outputs": []
    },
    {
      "cell_type": "code",
      "metadata": {
        "id": "3jgvXGPXRnDi"
      },
      "source": [
        "master_hkfp_chinaextradition.to_csv(\"drive/MyDrive/HKFP/China Extradition/00_scrapped_hkfp_chinaextradition_master.csv\", index=False)"
      ],
      "execution_count": 24,
      "outputs": []
    },
    {
      "cell_type": "code",
      "metadata": {
        "id": "lD2sRudIUdY1"
      },
      "source": [
        ""
      ],
      "execution_count": null,
      "outputs": []
    }
  ]
}