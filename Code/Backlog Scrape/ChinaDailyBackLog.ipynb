{
  "nbformat": 4,
  "nbformat_minor": 0,
  "metadata": {
    "colab": {
      "name": "ChinaDailyBackLog.ipynb",
      "provenance": []
    },
    "kernelspec": {
      "name": "python3",
      "display_name": "Python 3"
    },
    "language_info": {
      "name": "python"
    }
  },
  "cells": [
    {
      "cell_type": "code",
      "metadata": {
        "colab": {
          "base_uri": "https://localhost:8080/"
        },
        "id": "dmaawZ2BbNWN",
        "outputId": "532a647f-14bd-497b-e3d7-65336d809e57"
      },
      "source": [
        "!pip3 install beautifulsoup4'\n",
        "!pip3 install requests soupsieve lxml"
      ],
      "execution_count": null,
      "outputs": [
        {
          "output_type": "stream",
          "text": [
            "/bin/bash: -c: line 0: unexpected EOF while looking for matching `''\n",
            "/bin/bash: -c: line 1: syntax error: unexpected end of file\n",
            "Requirement already satisfied: requests in /usr/local/lib/python3.7/dist-packages (2.23.0)\n",
            "Collecting soupsieve\n",
            "  Downloading soupsieve-2.2.1-py3-none-any.whl (33 kB)\n",
            "Requirement already satisfied: lxml in /usr/local/lib/python3.7/dist-packages (4.2.6)\n",
            "Requirement already satisfied: urllib3!=1.25.0,!=1.25.1,<1.26,>=1.21.1 in /usr/local/lib/python3.7/dist-packages (from requests) (1.24.3)\n",
            "Requirement already satisfied: idna<3,>=2.5 in /usr/local/lib/python3.7/dist-packages (from requests) (2.10)\n",
            "Requirement already satisfied: chardet<4,>=3.0.2 in /usr/local/lib/python3.7/dist-packages (from requests) (3.0.4)\n",
            "Requirement already satisfied: certifi>=2017.4.17 in /usr/local/lib/python3.7/dist-packages (from requests) (2021.5.30)\n",
            "Installing collected packages: soupsieve\n",
            "Successfully installed soupsieve-2.2.1\n"
          ],
          "name": "stdout"
        }
      ]
    },
    {
      "cell_type": "code",
      "metadata": {
        "id": "nsyxgKxQbN3T"
      },
      "source": [
        "# -*- coding: utf-8 -*-\n",
        "from bs4 import BeautifulSoup\n",
        "import requests\n",
        "import pandas as pd\n",
        "import numpy as np\n",
        "import os, os.path\n",
        "from google.colab import drive\n",
        "drive.mount('/content/drive', force_remount=True)"
      ],
      "execution_count": null,
      "outputs": []
    },
    {
      "cell_type": "code",
      "metadata": {
        "id": "IIoBPAxVbQGn"
      },
      "source": [
        "master_chinadaily = pd.read_csv(\"drive/MyDrive/China Daily/HK-Macao/00_China-Daily_Master.csv\")"
      ],
      "execution_count": null,
      "outputs": []
    },
    {
      "cell_type": "code",
      "metadata": {
        "id": "qVKCcoY0bhhF"
      },
      "source": [
        "for i in range(1,269):\n",
        "  URL = 'https://www.chinadaily.com.cn/china/59b8d010a3108c54ed7dfc30/page_{}.html'.format(i+1)\n",
        "  page = requests.get(URL)\n",
        "  soup = BeautifulSoup(page.content, 'html.parser')\n",
        "  results = soup.find_all(\"h4\")\n",
        "  list_url = []\n",
        "  list_title = []\n",
        "  list_date = []\n",
        "  date = soup.find_all(\"span\", {\"class\": \"tw3_01_2_t\"})\n",
        "  for r in results:\n",
        "    list_url.append(r.find(\"a\")['href'][2:])\n",
        "  for t in results:\n",
        "    list_title.append(t.get_text().strip())\n",
        "  for d in date:\n",
        "    list_date.append(d.find(\"b\").get_text())\n",
        "\n",
        "  cd_backlog = pd.DataFrame(\n",
        "    {\"Title\" : list_title,\n",
        "     \"URL\" : list_url,\n",
        "     \"Date\" : list_date,\n",
        "     \"Scrapped Date\" : pd.to_datetime('now')\n",
        "     })\n",
        "  master_chinadaily = pd.concat([master_chinadaily, cd_backlog])\n"
      ],
      "execution_count": null,
      "outputs": []
    },
    {
      "cell_type": "code",
      "metadata": {
        "id": "hHd0OWeUiY-1"
      },
      "source": [
        "master_chinadaily.to_csv(\"/content/drive/MyDrive/China Daily/HK-Macao/00_China-Daily_Master.csv\", index=False)"
      ],
      "execution_count": null,
      "outputs": []
    }
  ]
}