{
  "nbformat": 4,
  "nbformat_minor": 0,
  "metadata": {
    "colab": {
      "name": "HKFP Scraping.ipynb",
      "provenance": [],
      "collapsed_sections": []
    },
    "kernelspec": {
      "name": "python3",
      "display_name": "Python 3"
    },
    "language_info": {
      "name": "python"
    }
  },
  "cells": [
    {
      "cell_type": "markdown",
      "metadata": {
        "id": "PDa4JBuxuiMq"
      },
      "source": [
        "China Extradition"
      ]
    },
    {
      "cell_type": "code",
      "metadata": {
        "id": "wQINvI6MHNK9",
        "colab": {
          "base_uri": "https://localhost:8080/"
        },
        "outputId": "53da8d05-9376-4ab4-99a1-9fe7bae7b377"
      },
      "source": [
        "!pip3 install beautifulsoup4'\n",
        "!pip3 install requests soupsieve lxml"
      ],
      "execution_count": null,
      "outputs": [
        {
          "output_type": "stream",
          "text": [
            "/bin/bash: -c: line 0: unexpected EOF while looking for matching `''\n",
            "/bin/bash: -c: line 1: syntax error: unexpected end of file\n",
            "Requirement already satisfied: requests in /usr/local/lib/python3.7/dist-packages (2.23.0)\n",
            "Collecting soupsieve\n",
            "  Downloading soupsieve-2.2.1-py3-none-any.whl (33 kB)\n",
            "Requirement already satisfied: lxml in /usr/local/lib/python3.7/dist-packages (4.2.6)\n",
            "Requirement already satisfied: idna<3,>=2.5 in /usr/local/lib/python3.7/dist-packages (from requests) (2.10)\n",
            "Requirement already satisfied: urllib3!=1.25.0,!=1.25.1,<1.26,>=1.21.1 in /usr/local/lib/python3.7/dist-packages (from requests) (1.24.3)\n",
            "Requirement already satisfied: certifi>=2017.4.17 in /usr/local/lib/python3.7/dist-packages (from requests) (2021.5.30)\n",
            "Requirement already satisfied: chardet<4,>=3.0.2 in /usr/local/lib/python3.7/dist-packages (from requests) (3.0.4)\n",
            "Installing collected packages: soupsieve\n",
            "Successfully installed soupsieve-2.2.1\n"
          ],
          "name": "stdout"
        }
      ]
    },
    {
      "cell_type": "code",
      "metadata": {
        "colab": {
          "base_uri": "https://localhost:8080/"
        },
        "id": "tSMeVJWFIMuc",
        "outputId": "db20f89a-e32d-4cfd-c78c-bc93c7ba7b2f"
      },
      "source": [
        "# -*- coding: utf-8 -*-\n",
        "from bs4 import BeautifulSoup\n",
        "import requests\n",
        "import pandas as pd\n",
        "import numpy as np\n",
        "import os, os.path\n",
        "from google.colab import drive\n",
        "drive.mount('/content/drive', force_remount=True)"
      ],
      "execution_count": null,
      "outputs": [
        {
          "output_type": "stream",
          "text": [
            "Mounted at /content/drive\n"
          ],
          "name": "stdout"
        }
      ]
    },
    {
      "cell_type": "code",
      "metadata": {
        "id": "7PN5ui9PIPFU"
      },
      "source": [
        "master_hkfp_chinaextradition = pd.read_csv(\"drive/MyDrive/HKFP/China Extradition/00_scrapped_hkfp_chinaextradition_master.csv\")"
      ],
      "execution_count": null,
      "outputs": []
    },
    {
      "cell_type": "code",
      "metadata": {
        "id": "-QiwexBxISWi"
      },
      "source": [
        "path, dirs, files = next(os.walk(\"drive/MyDrive/HKFP/China Extradition\"))\n",
        "file_count_hkfpce = len(files)"
      ],
      "execution_count": null,
      "outputs": []
    },
    {
      "cell_type": "code",
      "metadata": {
        "id": "PvzIAgfpIUQv"
      },
      "source": [
        "URL = 'https://hongkongfp.com/tag/china-extradition/'\n",
        "page = requests.get(URL)\n",
        "soup = BeautifulSoup(page.content, 'html.parser')"
      ],
      "execution_count": null,
      "outputs": []
    },
    {
      "cell_type": "code",
      "metadata": {
        "id": "PTGbScyZKRl0"
      },
      "source": [
        "results = soup.find_all(\"h2\", {\"class\": \"entry-title\"})"
      ],
      "execution_count": null,
      "outputs": []
    },
    {
      "cell_type": "code",
      "metadata": {
        "id": "mhaHSOR-JtYP"
      },
      "source": [
        "list_url = []\n",
        "\n",
        "for i in results:\n",
        "  list_url.append(i.find(\"a\")['href'])"
      ],
      "execution_count": null,
      "outputs": []
    },
    {
      "cell_type": "code",
      "metadata": {
        "id": "gJbdixM0KIXr"
      },
      "source": [
        "list_title = []\n",
        "\n",
        "for t in results:\n",
        "  list_title.append(t.get_text().strip())"
      ],
      "execution_count": null,
      "outputs": []
    },
    {
      "cell_type": "code",
      "metadata": {
        "id": "gCWY2pwaUT_-"
      },
      "source": [
        "list_date = []\n",
        "date = soup.find_all(\"span\", {\"class\": \"posted-on\"})\n",
        "\n",
        "for d in date:\n",
        "  list_date.append(d.find(\"time\", {\"class\":\"entry-date published\"}).get_text())"
      ],
      "execution_count": null,
      "outputs": []
    },
    {
      "cell_type": "code",
      "metadata": {
        "id": "bl5eP1DaY0-_"
      },
      "source": [
        "scrapped_hkfp_chinaextradition = pd.DataFrame(\n",
        "    {\"Title\" : list_title,\n",
        "     \"URL\" : list_url,\n",
        "     \"Date\" : list_date,\n",
        "     \"Scrapped Date\" : pd.to_datetime('now')\n",
        "     })"
      ],
      "execution_count": null,
      "outputs": []
    },
    {
      "cell_type": "code",
      "metadata": {
        "id": "sqrj8vHTaHiW"
      },
      "source": [
        "scrapped_hkfp_chinaextradition.to_csv(\"drive/MyDrive/HKFP/China Extradition/0{}_scrapped_hkfp_chinaextradition.csv\".format(file_count_hkfpce), index=False)"
      ],
      "execution_count": null,
      "outputs": []
    },
    {
      "cell_type": "code",
      "metadata": {
        "id": "I47GeTZPbRdK"
      },
      "source": [
        "master_hkfp_chinaextradition_merge = pd.concat([master_hkfp_chinaextradition, scrapped_hkfp_chinaextradition])"
      ],
      "execution_count": null,
      "outputs": []
    },
    {
      "cell_type": "code",
      "metadata": {
        "id": "8vw4EIBLexeU"
      },
      "source": [
        "master_hkfp_chinaextradition_merge.to_csv(\"drive/MyDrive/HKFP/China Extradition/00_scrapped_hkfp_chinaextradition_master.csv\", index=False)"
      ],
      "execution_count": null,
      "outputs": []
    },
    {
      "cell_type": "markdown",
      "metadata": {
        "id": "aqzlmhtaE7mE"
      },
      "source": [
        "National Security"
      ]
    },
    {
      "cell_type": "code",
      "metadata": {
        "id": "HExuHWAUKUXI"
      },
      "source": [
        "master_hkfp_ns = pd.read_csv(\"drive/MyDrive/HKFP/National Security/00_scrapped_hkfp_nationalsecurity_master.csv\")"
      ],
      "execution_count": null,
      "outputs": []
    },
    {
      "cell_type": "code",
      "metadata": {
        "id": "8AVpOZhgJY8_"
      },
      "source": [
        "path_ns, dirs_ns, files_ns = next(os.walk(\"drive/MyDrive/HKFP/National Security\"))\n",
        "file_count_ns = len(files_ns)"
      ],
      "execution_count": null,
      "outputs": []
    },
    {
      "cell_type": "code",
      "metadata": {
        "id": "4WZzsRLaE9BN"
      },
      "source": [
        "URL_ns = 'https://hongkongfp.com/tag/national-security/'\n",
        "page_ns = requests.get(URL_ns)\n",
        "soup_ns = BeautifulSoup(page_ns.content, 'html.parser')"
      ],
      "execution_count": null,
      "outputs": []
    },
    {
      "cell_type": "code",
      "metadata": {
        "id": "mGoKzYsbFGtF"
      },
      "source": [
        "results_ns = soup_ns.find_all(\"h2\", {\"class\": \"entry-title\"})"
      ],
      "execution_count": null,
      "outputs": []
    },
    {
      "cell_type": "code",
      "metadata": {
        "id": "jLccKR2nFLp2"
      },
      "source": [
        "listns_url = []\n",
        "\n",
        "for i in results_ns:\n",
        "  listns_url.append(i.find(\"a\")['href'])"
      ],
      "execution_count": null,
      "outputs": []
    },
    {
      "cell_type": "code",
      "metadata": {
        "id": "l-h7g_KiFTmv"
      },
      "source": [
        "listns_title = []\n",
        "\n",
        "for t in results_ns:\n",
        "  listns_title.append(t.get_text().strip())"
      ],
      "execution_count": null,
      "outputs": []
    },
    {
      "cell_type": "code",
      "metadata": {
        "id": "eIO-CqQcFX3O"
      },
      "source": [
        "listns_date = []\n",
        "date_ns = soup_ns.find_all(\"span\", {\"class\": \"posted-on\"})\n",
        "\n",
        "for d in date_ns:\n",
        "  listns_date.append(d.find(\"time\", {\"class\":\"entry-date published\"}).get_text())"
      ],
      "execution_count": null,
      "outputs": []
    },
    {
      "cell_type": "code",
      "metadata": {
        "id": "U-o5ANRNFd3l"
      },
      "source": [
        "scrapped_hkfp_ns = pd.DataFrame(\n",
        "    {\"Title\" : listns_title,\n",
        "     \"URL\" : listns_url,\n",
        "     \"Date\" : listns_date,\n",
        "     \"Scrapped Date\" : pd.to_datetime('now')\n",
        "     })"
      ],
      "execution_count": null,
      "outputs": []
    },
    {
      "cell_type": "code",
      "metadata": {
        "id": "dlp_2zd8I2VK"
      },
      "source": [
        "scrapped_hkfp_ns.to_csv(\"drive/MyDrive/HKFP/National Security/0{}_scrapped_hkfp_nationalsecurity.csv\".format(file_count_ns), index=False)"
      ],
      "execution_count": null,
      "outputs": []
    },
    {
      "cell_type": "code",
      "metadata": {
        "id": "m0OZEVEuI3Kp"
      },
      "source": [
        "master_hkfp_ns_merge = pd.concat([scrapped_hkfp_ns, master_hkfp_ns])"
      ],
      "execution_count": null,
      "outputs": []
    },
    {
      "cell_type": "code",
      "metadata": {
        "id": "1pYoKmGpJzj6"
      },
      "source": [
        "master_hkfp_ns_merge.to_csv(\"drive/MyDrive/HKFP/National Security/00_scrapped_hkfp_ns_master.csv\", index=False)"
      ],
      "execution_count": null,
      "outputs": []
    }
  ]
}