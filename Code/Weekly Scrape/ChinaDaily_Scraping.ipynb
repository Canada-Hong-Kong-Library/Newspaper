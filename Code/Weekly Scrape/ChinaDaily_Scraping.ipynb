{
  "nbformat": 4,
  "nbformat_minor": 0,
  "metadata": {
    "colab": {
      "name": "ChinaDaily Scraping.ipynb",
      "provenance": [],
      "collapsed_sections": []
    },
    "kernelspec": {
      "name": "python3",
      "display_name": "Python 3"
    },
    "language_info": {
      "name": "python"
    }
  },
  "cells": [
    {
      "cell_type": "code",
      "metadata": {
        "colab": {
          "base_uri": "https://localhost:8080/"
        },
        "id": "s65vDCoRqSm9",
        "outputId": "d93e792f-80f5-4404-8b8b-1fa5d8fba73f"
      },
      "source": [
        "!pip3 install beautifulsoup4'\n",
        "!pip3 install requests soupsieve lxml"
      ],
      "execution_count": null,
      "outputs": [
        {
          "output_type": "stream",
          "text": [
            "/bin/bash: -c: line 0: unexpected EOF while looking for matching `''\n",
            "/bin/bash: -c: line 1: syntax error: unexpected end of file\n",
            "Requirement already satisfied: requests in /usr/local/lib/python3.7/dist-packages (2.23.0)\n",
            "Collecting soupsieve\n",
            "  Downloading soupsieve-2.2.1-py3-none-any.whl (33 kB)\n",
            "Requirement already satisfied: lxml in /usr/local/lib/python3.7/dist-packages (4.2.6)\n",
            "Requirement already satisfied: idna<3,>=2.5 in /usr/local/lib/python3.7/dist-packages (from requests) (2.10)\n",
            "Requirement already satisfied: urllib3!=1.25.0,!=1.25.1,<1.26,>=1.21.1 in /usr/local/lib/python3.7/dist-packages (from requests) (1.24.3)\n",
            "Requirement already satisfied: chardet<4,>=3.0.2 in /usr/local/lib/python3.7/dist-packages (from requests) (3.0.4)\n",
            "Requirement already satisfied: certifi>=2017.4.17 in /usr/local/lib/python3.7/dist-packages (from requests) (2021.5.30)\n",
            "Installing collected packages: soupsieve\n",
            "Successfully installed soupsieve-2.2.1\n"
          ],
          "name": "stdout"
        }
      ]
    },
    {
      "cell_type": "code",
      "metadata": {
        "colab": {
          "base_uri": "https://localhost:8080/"
        },
        "id": "nr_dVW_QqUsh",
        "outputId": "7bbcb466-11b3-42e4-f537-cb462a594ee9"
      },
      "source": [
        "# -*- coding: utf-8 -*-\n",
        "from bs4 import BeautifulSoup\n",
        "import requests\n",
        "import pandas as pd\n",
        "import numpy as np\n",
        "import os, os.path\n",
        "from google.colab import drive\n",
        "drive.mount('/content/drive', force_remount=True)"
      ],
      "execution_count": null,
      "outputs": [
        {
          "output_type": "stream",
          "text": [
            "Mounted at /content/drive\n"
          ],
          "name": "stdout"
        }
      ]
    },
    {
      "cell_type": "code",
      "metadata": {
        "id": "TnapVpMn0dDR"
      },
      "source": [
        "master_chinadaily = pd.read_csv(\"drive/MyDrive/China Daily/HK-Macao/00_China-Daily_Master.csv\")"
      ],
      "execution_count": null,
      "outputs": []
    },
    {
      "cell_type": "code",
      "metadata": {
        "id": "ngYWRuo4qXBb"
      },
      "source": [
        "path, dirs, files = next(os.walk(\"drive/MyDrive/China Daily/HK-Macao\"))\n",
        "file_count = len(files)"
      ],
      "execution_count": null,
      "outputs": []
    },
    {
      "cell_type": "code",
      "metadata": {
        "id": "0znotom1q_ht"
      },
      "source": [
        "URL = 'https://www.chinadaily.com.cn/china/59b8d010a3108c54ed7dfc30'\n",
        "page = requests.get(URL)\n",
        "soup = BeautifulSoup(page.content, 'html.parser')"
      ],
      "execution_count": null,
      "outputs": []
    },
    {
      "cell_type": "code",
      "metadata": {
        "id": "W7Ba21gbrIMf"
      },
      "source": [
        "#soup.find_all(\"h2\", {\"class\": \"entry-title\"})\n",
        "results = soup.find_all(\"h4\")"
      ],
      "execution_count": null,
      "outputs": []
    },
    {
      "cell_type": "code",
      "metadata": {
        "id": "D2nULqS1sh3e"
      },
      "source": [
        "list_url = []\n",
        "\n",
        "for i in results:\n",
        "  list_url.append(i.find(\"a\")['href'][2:])"
      ],
      "execution_count": null,
      "outputs": []
    },
    {
      "cell_type": "code",
      "metadata": {
        "id": "X-OSF0uesmmG"
      },
      "source": [
        "list_title = []\n",
        "\n",
        "for t in results:\n",
        "  list_title.append(t.get_text().strip())"
      ],
      "execution_count": null,
      "outputs": []
    },
    {
      "cell_type": "code",
      "metadata": {
        "id": "H4l_JEdusnEB"
      },
      "source": [
        "list_date = []\n",
        "\n",
        "date = soup.find_all(\"span\", {\"class\": \"tw3_01_2_t\"})\n",
        "for d in date:\n",
        "  list_date.append(d.find(\"b\").get_text())"
      ],
      "execution_count": null,
      "outputs": []
    },
    {
      "cell_type": "code",
      "metadata": {
        "id": "mgWGMypWszQR"
      },
      "source": [
        "scrapped_cd_hkmacau = pd.DataFrame(\n",
        "    {\"Title\" : list_title,\n",
        "     \"URL\" : list_url,\n",
        "     \"Date\" : list_date,\n",
        "     \"Scrapped Date\" : pd.to_datetime('now')\n",
        "     })"
      ],
      "execution_count": null,
      "outputs": []
    },
    {
      "cell_type": "code",
      "metadata": {
        "id": "aGqVrvJLttsF"
      },
      "source": [
        "scrapped_cd_hkmacau.to_csv(\"/content/drive/MyDrive/China Daily/HK-Macao/0{}_China-Daily_Scrape.csv\".format(file_count), index=False)"
      ],
      "execution_count": null,
      "outputs": []
    },
    {
      "cell_type": "code",
      "metadata": {
        "id": "5ETv_owVwjI6"
      },
      "source": [
        "master_chinadaily_merge = pd.concat([scrapped_cd_hkmacau, master_chinadaily])"
      ],
      "execution_count": null,
      "outputs": []
    },
    {
      "cell_type": "code",
      "metadata": {
        "id": "582cJtZPx0FG"
      },
      "source": [
        "master_chinadaily_merge.to_csv(\"/content/drive/MyDrive/China Daily/HK-Macao/00_China-Daily_Master.csv\", index=False)"
      ],
      "execution_count": null,
      "outputs": []
    }
  ]
}