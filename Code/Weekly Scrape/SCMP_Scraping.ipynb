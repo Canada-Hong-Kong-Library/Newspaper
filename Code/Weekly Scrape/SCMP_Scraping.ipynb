{
  "nbformat": 4,
  "nbformat_minor": 0,
  "metadata": {
    "colab": {
      "name": "SCMP Scraping.ipynb",
      "provenance": [],
      "collapsed_sections": []
    },
    "kernelspec": {
      "name": "python3",
      "display_name": "Python 3"
    },
    "language_info": {
      "name": "python"
    }
  },
  "cells": [
    {
      "cell_type": "markdown",
      "metadata": {
        "id": "Cg1f9AnIgTZT"
      },
      "source": [
        "National Security Law"
      ]
    },
    {
      "cell_type": "code",
      "metadata": {
        "colab": {
          "base_uri": "https://localhost:8080/"
        },
        "id": "IszAPdJsjf9U",
        "outputId": "1268c362-d5b7-47d0-a2b6-14b31b46c6ee"
      },
      "source": [
        "!pip3 install beautifulsoup4'\n",
        "!pip3 install requests soupsieve lxml"
      ],
      "execution_count": null,
      "outputs": [
        {
          "output_type": "stream",
          "text": [
            "/bin/bash: -c: line 0: unexpected EOF while looking for matching `''\n",
            "/bin/bash: -c: line 1: syntax error: unexpected end of file\n",
            "Requirement already satisfied: requests in /usr/local/lib/python3.7/dist-packages (2.23.0)\n",
            "Requirement already satisfied: soupsieve in /usr/local/lib/python3.7/dist-packages (2.2.1)\n",
            "Requirement already satisfied: lxml in /usr/local/lib/python3.7/dist-packages (4.2.6)\n",
            "Requirement already satisfied: certifi>=2017.4.17 in /usr/local/lib/python3.7/dist-packages (from requests) (2021.5.30)\n",
            "Requirement already satisfied: urllib3!=1.25.0,!=1.25.1,<1.26,>=1.21.1 in /usr/local/lib/python3.7/dist-packages (from requests) (1.24.3)\n",
            "Requirement already satisfied: chardet<4,>=3.0.2 in /usr/local/lib/python3.7/dist-packages (from requests) (3.0.4)\n",
            "Requirement already satisfied: idna<3,>=2.5 in /usr/local/lib/python3.7/dist-packages (from requests) (2.10)\n"
          ],
          "name": "stdout"
        }
      ]
    },
    {
      "cell_type": "code",
      "metadata": {
        "id": "wo3yJTVzjpRO",
        "colab": {
          "base_uri": "https://localhost:8080/",
          "height": 410
        },
        "outputId": "4035711b-1d44-440d-a878-767b20d9e5ec"
      },
      "source": [
        "# -*- coding: utf-8 -*-\n",
        "from bs4 import BeautifulSoup\n",
        "import requests\n",
        "import pandas as pd\n",
        "import numpy as np\n",
        "import os, os.path\n",
        "from google.colab import drive\n",
        "drive.mount('/content/drive', force_remount=True)"
      ],
      "execution_count": 14,
      "outputs": [
        {
          "output_type": "stream",
          "text": [
            "Go to this URL in a browser: https://accounts.google.com/o/oauth2/auth?client_id=947318989803-6bn6qk8qdgf4n4g3pfee6491hc0brc4i.apps.googleusercontent.com&redirect_uri=urn%3aietf%3awg%3aoauth%3a2.0%3aoob&scope=email%20https%3a%2f%2fwww.googleapis.com%2fauth%2fdocs.test%20https%3a%2f%2fwww.googleapis.com%2fauth%2fdrive%20https%3a%2f%2fwww.googleapis.com%2fauth%2fdrive.photos.readonly%20https%3a%2f%2fwww.googleapis.com%2fauth%2fpeopleapi.readonly%20https%3a%2f%2fwww.googleapis.com%2fauth%2fdrive.activity.readonly%20https%3a%2f%2fwww.googleapis.com%2fauth%2fexperimentsandconfigs%20https%3a%2f%2fwww.googleapis.com%2fauth%2fphotos.native&response_type=code\n",
            "\n",
            "Enter your authorization code:\n",
            "4/1AX4XfWiHDRXOivVgpvSon5F6WqD0hOfNjU3HZqgBcilRVfnET2bM9dQhU5U\n"
          ],
          "name": "stdout"
        },
        {
          "output_type": "error",
          "ename": "ValueError",
          "evalue": "ignored",
          "traceback": [
            "\u001b[0;31m---------------------------------------------------------------------------\u001b[0m",
            "\u001b[0;31mValueError\u001b[0m                                Traceback (most recent call last)",
            "\u001b[0;32m<ipython-input-14-981d60f2db4b>\u001b[0m in \u001b[0;36m<module>\u001b[0;34m()\u001b[0m\n\u001b[1;32m      6\u001b[0m \u001b[0;32mimport\u001b[0m \u001b[0mos\u001b[0m\u001b[0;34m,\u001b[0m \u001b[0mos\u001b[0m\u001b[0;34m.\u001b[0m\u001b[0mpath\u001b[0m\u001b[0;34m\u001b[0m\u001b[0;34m\u001b[0m\u001b[0m\n\u001b[1;32m      7\u001b[0m \u001b[0;32mfrom\u001b[0m \u001b[0mgoogle\u001b[0m\u001b[0;34m.\u001b[0m\u001b[0mcolab\u001b[0m \u001b[0;32mimport\u001b[0m \u001b[0mdrive\u001b[0m\u001b[0;34m\u001b[0m\u001b[0;34m\u001b[0m\u001b[0m\n\u001b[0;32m----> 8\u001b[0;31m \u001b[0mdrive\u001b[0m\u001b[0;34m.\u001b[0m\u001b[0mmount\u001b[0m\u001b[0;34m(\u001b[0m\u001b[0;34m'/content/drive'\u001b[0m\u001b[0;34m,\u001b[0m \u001b[0mforce_remount\u001b[0m\u001b[0;34m=\u001b[0m\u001b[0;32mTrue\u001b[0m\u001b[0;34m)\u001b[0m\u001b[0;34m\u001b[0m\u001b[0;34m\u001b[0m\u001b[0m\n\u001b[0m",
            "\u001b[0;32m/usr/local/lib/python3.7/dist-packages/google/colab/drive.py\u001b[0m in \u001b[0;36mmount\u001b[0;34m(mountpoint, force_remount, timeout_ms, use_metadata_server)\u001b[0m\n\u001b[1;32m    265\u001b[0m       \u001b[0mwrote_to_fifo\u001b[0m \u001b[0;34m=\u001b[0m \u001b[0;32mTrue\u001b[0m\u001b[0;34m\u001b[0m\u001b[0;34m\u001b[0m\u001b[0m\n\u001b[1;32m    266\u001b[0m     \u001b[0;32melif\u001b[0m \u001b[0mcase\u001b[0m \u001b[0;34m==\u001b[0m \u001b[0;36m5\u001b[0m\u001b[0;34m:\u001b[0m\u001b[0;34m\u001b[0m\u001b[0;34m\u001b[0m\u001b[0m\n\u001b[0;32m--> 267\u001b[0;31m       \u001b[0;32mraise\u001b[0m \u001b[0mValueError\u001b[0m\u001b[0;34m(\u001b[0m\u001b[0;34m'mount failed: invalid oauth code'\u001b[0m\u001b[0;34m)\u001b[0m\u001b[0;34m\u001b[0m\u001b[0;34m\u001b[0m\u001b[0m\n\u001b[0m\u001b[1;32m    268\u001b[0m     \u001b[0;32melif\u001b[0m \u001b[0mcase\u001b[0m \u001b[0;34m==\u001b[0m \u001b[0;36m6\u001b[0m\u001b[0;34m:\u001b[0m\u001b[0;34m\u001b[0m\u001b[0;34m\u001b[0m\u001b[0m\n\u001b[1;32m    269\u001b[0m       \u001b[0;31m# Terminate the DriveFS binary before killing bash.\u001b[0m\u001b[0;34m\u001b[0m\u001b[0;34m\u001b[0m\u001b[0;34m\u001b[0m\u001b[0m\n",
            "\u001b[0;31mValueError\u001b[0m: mount failed: invalid oauth code"
          ]
        }
      ]
    },
    {
      "cell_type": "code",
      "metadata": {
        "id": "kqLYqWEaBpcu"
      },
      "source": [
        "master_df = pd.read_csv(\"drive/MyDrive/SCMP/National Security Law/scrapped_scmp-nsl-master.csv\")"
      ],
      "execution_count": null,
      "outputs": []
    },
    {
      "cell_type": "code",
      "metadata": {
        "id": "3b1gqFJXLJlI"
      },
      "source": [
        "path, dirs, files = next(os.walk(\"drive/MyDrive/SCMP/National Security Law\"))\n",
        "file_count = len(files)"
      ],
      "execution_count": null,
      "outputs": []
    },
    {
      "cell_type": "code",
      "metadata": {
        "id": "wpiXr1dtjwGX"
      },
      "source": [
        "URL = 'https://www.scmp.com/topics/hong-kong-national-security-law-nsl'\n",
        "page = requests.get(URL)\n",
        "soup = BeautifulSoup(page.content, 'html.parser')"
      ],
      "execution_count": null,
      "outputs": []
    },
    {
      "cell_type": "code",
      "metadata": {
        "id": "qM13UA6isERx"
      },
      "source": [
        "results = soup.find(\"div\")\n",
        "job_elems = results.find_all(\"a\")"
      ],
      "execution_count": null,
      "outputs": []
    },
    {
      "cell_type": "code",
      "metadata": {
        "id": "eQ94bAxeCrxr"
      },
      "source": [
        "list_date = []\n",
        "\n",
        "for t in soup.find_all(\"span\", {\"class\":'author__status-left-time'}):\n",
        "  list_date.append(t.get_text())\n",
        "  #print(t.get_text())\n",
        "\n",
        "list_date.pop(0)"
      ],
      "execution_count": null,
      "outputs": []
    },
    {
      "cell_type": "code",
      "metadata": {
        "id": "C4C-k2TNxE1P"
      },
      "source": [
        "list_url = []\n",
        "\n",
        "for a in results.find_all(\"a\", {\"class\": \"article__link\"}):\n",
        "  list_url.append(\"scmp.com\" + a['href'])"
      ],
      "execution_count": null,
      "outputs": []
    },
    {
      "cell_type": "code",
      "metadata": {
        "id": "DCs1Wc5uABvL"
      },
      "source": [
        "list_title = []\n",
        "\n",
        "for i in results.find_all(\"a\", {\"class\": \"article__link\"}):\n",
        "  list_title.append(i.get_text().strip())"
      ],
      "execution_count": null,
      "outputs": []
    },
    {
      "cell_type": "code",
      "metadata": {
        "id": "xlDPxHw57hmU"
      },
      "source": [
        "scrapped_scmpnsl = pd.DataFrame(\n",
        "    {\"Title\" : list_title,\n",
        "     \"URL\" : list_url,\n",
        "     \"Date\" : list_date\n",
        "     \"Scrapped Date\" : pd.to_datetime('now')\n",
        "     })"
      ],
      "execution_count": null,
      "outputs": []
    },
    {
      "cell_type": "code",
      "metadata": {
        "id": "mvFTxCyeOs7a"
      },
      "source": [
        "scrapped_scmpnsl.to_csv(\"drive/MyDrive/SCMP/National Security Law/0{}_scrapped_scmp-nsl_articles.csv\".format(file_count), index=False)"
      ],
      "execution_count": null,
      "outputs": []
    },
    {
      "cell_type": "code",
      "metadata": {
        "id": "YWPiBrnPBz1i"
      },
      "source": [
        "master_merge = pd.concat([master_df, scrapped_scmpnsl])"
      ],
      "execution_count": null,
      "outputs": []
    },
    {
      "cell_type": "code",
      "metadata": {
        "id": "vaaAr9v0D5nF"
      },
      "source": [
        "master_merge.to_csv(\"drive/MyDrive/SCMP/National Security Law/00_scrapped_scmp-nsl_master.csv\", index=False)"
      ],
      "execution_count": null,
      "outputs": []
    },
    {
      "cell_type": "markdown",
      "metadata": {
        "id": "t51q137F_fnZ"
      },
      "source": [
        "SCMP Hong Kong Protests"
      ]
    },
    {
      "cell_type": "code",
      "metadata": {
        "id": "0D-3N3xbAfsM"
      },
      "source": [
        "master_protests = pd.read_csv(\"drive/MyDrive/SCMP/Hong Kong Protests/scrapped_scmp-protests_master.csv\")"
      ],
      "execution_count": null,
      "outputs": []
    },
    {
      "cell_type": "code",
      "metadata": {
        "id": "mRaTf5uXAxpy"
      },
      "source": [
        "path_protests, dirs_protests, files_protests = next(os.walk(\"drive/MyDrive/SCMP/Hong Kong Protests\"))\n",
        "file_count_protests = len(files_protests)"
      ],
      "execution_count": null,
      "outputs": []
    },
    {
      "cell_type": "code",
      "metadata": {
        "id": "92z5GvFt-gUl"
      },
      "source": [
        "URL_protests = 'https://www.scmp.com/topics/hong-kong-protests'\n",
        "page_protests = requests.get(URL_protests)\n",
        "soup_protests = BeautifulSoup(page_protests.content, 'html.parser')"
      ],
      "execution_count": null,
      "outputs": []
    },
    {
      "cell_type": "code",
      "metadata": {
        "id": "HHYdTTIo_Hr9"
      },
      "source": [
        "results_protests = soup_protests.find(\"div\")\n",
        "job_elems_protests = results_protests.find_all(\"a\")"
      ],
      "execution_count": null,
      "outputs": []
    },
    {
      "cell_type": "code",
      "metadata": {
        "id": "SJgwUznk-6MX"
      },
      "source": [
        "list_date_protests = []\n",
        "\n",
        "for t in soup_protests.find_all(\"span\", {\"class\":'author__status-left-time'}):\n",
        "  list_date_protests.append(t.get_text())\n",
        "\n",
        "list_date_protests.pop(0)"
      ],
      "execution_count": null,
      "outputs": []
    },
    {
      "cell_type": "code",
      "metadata": {
        "id": "XHtzlWzk_Cc4"
      },
      "source": [
        "list_url_protests = []\n",
        "\n",
        "for a in results_protests.find_all(\"a\", {\"class\": \"article__link\"}):\n",
        "  list_url_protests.append(\"scmp.com\" + a['href'])"
      ],
      "execution_count": null,
      "outputs": []
    },
    {
      "cell_type": "code",
      "metadata": {
        "id": "PRS48lYZ_QZV"
      },
      "source": [
        "list_title_protests = []\n",
        "\n",
        "for i in results_protests.find_all(\"a\", {\"class\": \"article__link\"}):\n",
        "  list_title_protests.append(i.get_text().strip())"
      ],
      "execution_count": null,
      "outputs": []
    },
    {
      "cell_type": "code",
      "metadata": {
        "id": "IXphM3hN_WMP"
      },
      "source": [
        "scrapped_scmpprotests = pd.DataFrame(\n",
        "    {\"Title\" : list_title_protests,\n",
        "     \"URL\" : list_url_protests,\n",
        "     \"Date\" : list_date_protests,\n",
        "     \"Scrapped Date\" : pd.to_datetime('now')\n",
        "     })"
      ],
      "execution_count": null,
      "outputs": []
    },
    {
      "cell_type": "code",
      "metadata": {
        "id": "Z3d3lT37_ybf"
      },
      "source": [
        "scrapped_scmpprotests.to_csv(\"drive/MyDrive/SCMP/Hong Kong Protests/0{}_scrapped_scmp-protests.csv\".format(file_count), index=False)"
      ],
      "execution_count": null,
      "outputs": []
    },
    {
      "cell_type": "code",
      "metadata": {
        "id": "yuiqhFJHDBte"
      },
      "source": [
        "master_protests_merge = pd.concat([master_protests, scrapped_scmpprotests])"
      ],
      "execution_count": null,
      "outputs": []
    },
    {
      "cell_type": "code",
      "metadata": {
        "id": "CTq7m0d6HHD9"
      },
      "source": [
        "master_protests_merge.to_csv(\"drive/MyDrive/SCMP/Hong Kong Protests/00_scrapped_scmp-protests_master.csv\", index=False)"
      ],
      "execution_count": null,
      "outputs": []
    },
    {
      "cell_type": "markdown",
      "metadata": {
        "id": "k6QTv3_ogQoa"
      },
      "source": [
        "SCMP Hong Kong Localism and Independence"
      ]
    },
    {
      "cell_type": "code",
      "metadata": {
        "id": "9ImISoDGqCCZ"
      },
      "source": [
        "master_ind = (\"drive/MyDrive/SCMP/Localism and Independence/00_scrapped_scmp-ind_master.csv\")"
      ],
      "execution_count": null,
      "outputs": []
    },
    {
      "cell_type": "code",
      "metadata": {
        "id": "plCyuYTIgaXA"
      },
      "source": [
        "URL_ind = 'https://www.scmp.com/topics/hong-kong-localism-and-independence'\n",
        "page_ind = requests.get(URL_ind)\n",
        "soup_ind = BeautifulSoup(page_ind.content, 'html.parser')"
      ],
      "execution_count": null,
      "outputs": []
    },
    {
      "cell_type": "code",
      "metadata": {
        "id": "8K3MmLGlfK3B"
      },
      "source": [
        "path_ind, dirs_ind, files_ind = next(os.walk(\"drive/MyDrive/SCMP/Localism and Independence\"))\n",
        "file_count_ind = len(files_ind)"
      ],
      "execution_count": null,
      "outputs": []
    },
    {
      "cell_type": "code",
      "metadata": {
        "id": "QmFeItgBkMPq"
      },
      "source": [
        "results_ind = soup_ind.find(\"div\")\n",
        "job_elems_ind = results_ind.find_all(\"a\")"
      ],
      "execution_count": null,
      "outputs": []
    },
    {
      "cell_type": "code",
      "metadata": {
        "id": "o2dOkZcjkU5c"
      },
      "source": [
        "list_date_ind = []\n",
        "\n",
        "for t in soup_ind.find_all(\"span\", {\"class\":'author__status-left-time'}):\n",
        "  list_date_ind.append(t.get_text())\n",
        "  #print(t.get_text())\n",
        "\n",
        "list_date_ind.pop(0)"
      ],
      "execution_count": null,
      "outputs": []
    },
    {
      "cell_type": "code",
      "metadata": {
        "id": "LcsfPajokZVE"
      },
      "source": [
        "list_url_ind = []\n",
        "\n",
        "for a in results_ind.find_all(\"a\", {\"class\": \"article__link\"}):\n",
        "  list_url_ind.append(\"scmp.com\" + a['href'])\n",
        "    #print(\"scmp.com\" + a['href'])"
      ],
      "execution_count": null,
      "outputs": []
    },
    {
      "cell_type": "code",
      "metadata": {
        "id": "rYzLBcJgkhOa"
      },
      "source": [
        "list_title_ind = []\n",
        "\n",
        "for i in results_ind.find_all(\"a\", {\"class\": \"article__link\"}):\n",
        "  list_title_ind.append(i.get_text().strip())"
      ],
      "execution_count": null,
      "outputs": []
    },
    {
      "cell_type": "code",
      "metadata": {
        "id": "x4qHOj42kpHo"
      },
      "source": [
        "scrapped_scmpind = pd.DataFrame(\n",
        "    {\"Title\" : list_title_ind,\n",
        "     \"URL\" : list_url_ind,\n",
        "     \"Date\" : list_date_ind,\n",
        "     \"Scrapped Date\" : pd.to_datetime('now')\n",
        "     })"
      ],
      "execution_count": null,
      "outputs": []
    },
    {
      "cell_type": "code",
      "metadata": {
        "id": "5V-icQpii534"
      },
      "source": [
        "scrapped_scmpind.to_csv(\"drive/MyDrive/SCMP/Localism and Independence/0{}_scrapped_scmp-ind.csv\".format(file_count), index=False)"
      ],
      "execution_count": null,
      "outputs": []
    },
    {
      "cell_type": "code",
      "metadata": {
        "id": "00j0kIydkvEt"
      },
      "source": [
        "master_ind_merge = pd.concat([master_ind, scrapped_scmpind])"
      ],
      "execution_count": null,
      "outputs": []
    },
    {
      "cell_type": "code",
      "metadata": {
        "id": "4MEI8Fqupp8l"
      },
      "source": [
        "master_ind_merge.to_csv(\"drive/MyDrive/SCMP/Localism and Independence/00_scrapped_scmp-ind_master.csv\", index=False)"
      ],
      "execution_count": null,
      "outputs": []
    }
  ]
}